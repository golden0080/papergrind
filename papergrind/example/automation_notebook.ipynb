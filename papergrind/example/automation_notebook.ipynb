{
 "cells": [
  {
   "cell_type": "code",
   "execution_count": null,
   "id": "6b0fca80-46ed-4de3-90a2-1d03b67f9400",
   "metadata": {
    "tags": []
   },
   "outputs": [],
   "source": [
    "%pip install papermill"
   ]
  },
  {
   "cell_type": "code",
   "execution_count": null,
   "id": "67c389b2-e8c4-4b34-bebb-c765a4b45e04",
   "metadata": {
    "tags": []
   },
   "outputs": [],
   "source": [
    "import notebook_imports"
   ]
  },
  {
   "cell_type": "code",
   "execution_count": null,
   "id": "4fbd9626-3a75-423d-9ac4-199bf0514416",
   "metadata": {
    "tags": []
   },
   "outputs": [],
   "source": [
    "import sys\n",
    "sys.path"
   ]
  },
  {
   "cell_type": "code",
   "execution_count": null,
   "id": "7ce10639-79c3-418e-be37-8dcdf5215adb",
   "metadata": {
    "tags": []
   },
   "outputs": [],
   "source": [
    "from papergrind import param_sequence as param, runner"
   ]
  },
  {
   "cell_type": "markdown",
   "id": "0bd6e365-7c8d-4a78-8f88-68800d074bee",
   "metadata": {
    "tags": []
   },
   "source": [
    "# Parameters"
   ]
  },
  {
   "cell_type": "code",
   "execution_count": null,
   "id": "e462e7d9-8a13-4511-8977-b2dd2eaa57b3",
   "metadata": {
    "tags": []
   },
   "outputs": [],
   "source": [
    "time_periods = param.ParamSequence(\"time_period\", [\"morning\", \"afternoon\", \"evening\", \"midnight\"])\n",
    "dates = param.LinkedParamSequence(\n",
    "    [\"start_date_str\", \"end_date_str\"],\n",
    "    [\n",
    "        (\"2022-02-03\", \"2022-02-09\"),\n",
    "        (\"2022-02-10\", \"2022-02-11\"),\n",
    "    ]\n",
    ")\n",
    "\n",
    "combo = param.CombinationParams(dates, time_periods)"
   ]
  },
  {
   "cell_type": "code",
   "execution_count": null,
   "id": "e2257f67-e910-4ccc-8a79-cf72e7e057a4",
   "metadata": {
    "tags": []
   },
   "outputs": [],
   "source": [
    "for params in combo.param_dict():\n",
    "    print(params)"
   ]
  },
  {
   "cell_type": "markdown",
   "id": "4b0e5a34-8e1f-4223-9c1e-208024b02925",
   "metadata": {
    "tags": []
   },
   "source": [
    "# Notebook Template Runner"
   ]
  },
  {
   "cell_type": "code",
   "execution_count": null,
   "id": "8c566978-c8c1-4a76-bc05-eba2bf5be58c",
   "metadata": {
    "tags": []
   },
   "outputs": [],
   "source": [
    "template1 = runner.NotebookRunner(\n",
    "    combo,\n",
    "    \"template.ipynb\",\n",
    "    \"r1-{start_date_str}-{time_period}.ipynb\",\n",
    ")"
   ]
  },
  {
   "cell_type": "code",
   "execution_count": null,
   "id": "e646d3b3-b11a-48fa-9221-013640fa028f",
   "metadata": {
    "tags": []
   },
   "outputs": [],
   "source": [
    "template1.run()"
   ]
  }
 ],
 "metadata": {
  "kernelspec": {
   "display_name": "Python 3 (ipykernel)",
   "language": "python",
   "name": "python3"
  },
  "language_info": {
   "codemirror_mode": {
    "name": "ipython",
    "version": 3
   },
   "file_extension": ".py",
   "mimetype": "text/x-python",
   "name": "python",
   "nbconvert_exporter": "python",
   "pygments_lexer": "ipython3",
   "version": "3.8.10"
  }
 },
 "nbformat": 4,
 "nbformat_minor": 5
}
