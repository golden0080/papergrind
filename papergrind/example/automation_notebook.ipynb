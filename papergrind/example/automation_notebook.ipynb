{
 "cells": [
  {
   "cell_type": "code",
   "execution_count": null,
   "id": "6b0fca80-46ed-4de3-90a2-1d03b67f9400",
   "metadata": {
    "tags": []
   },
   "outputs": [],
   "source": [
    "%pip install papermill"
   ]
  },
  {
   "cell_type": "code",
   "execution_count": null,
   "id": "beb72b9a-243e-4169-bbfc-89295cadce30",
   "metadata": {
    "tags": []
   },
   "outputs": [],
   "source": [
    "import notebook_imports"
   ]
  },
  {
   "cell_type": "code",
   "execution_count": null,
   "id": "7ce10639-79c3-418e-be37-8dcdf5215adb",
   "metadata": {
    "tags": []
   },
   "outputs": [],
   "source": [
    "from papergrind import param_sequence as param, runner, output_parser as parser, notebook_presenter as pr, report_generator as gen"
   ]
  },
  {
   "cell_type": "markdown",
   "id": "0bd6e365-7c8d-4a78-8f88-68800d074bee",
   "metadata": {
    "tags": []
   },
   "source": [
    "# Parameters"
   ]
  },
  {
   "cell_type": "code",
   "execution_count": null,
   "id": "e462e7d9-8a13-4511-8977-b2dd2eaa57b3",
   "metadata": {
    "tags": []
   },
   "outputs": [],
   "source": [
    "from papergrind import param_sequence as param\n",
    "\n",
    "time_periods = param.ParamSequence(\"time_period\", [\"morning\", \"afternoon\", \"evening\", \"midnight\"])\n",
    "dates = param.LinkedParamSequence(\n",
    "    [\"start_date_str\", \"end_date_str\"],\n",
    "    [\n",
    "        (\"2022-02-03\", \"2022-02-09\"),\n",
    "        (\"2022-02-10\", \"2022-02-11\"),\n",
    "    ]\n",
    ")\n",
    "\n",
    "combo = param.CombinationParams(dates, time_periods)"
   ]
  },
  {
   "cell_type": "code",
   "execution_count": null,
   "id": "e2257f67-e910-4ccc-8a79-cf72e7e057a4",
   "metadata": {
    "tags": []
   },
   "outputs": [],
   "source": [
    "for params in combo.param_dict():\n",
    "    print(params)"
   ]
  },
  {
   "cell_type": "markdown",
   "id": "4b0e5a34-8e1f-4223-9c1e-208024b02925",
   "metadata": {
    "tags": []
   },
   "source": [
    "# Notebook Template Runner"
   ]
  },
  {
   "cell_type": "code",
   "execution_count": null,
   "id": "8c566978-c8c1-4a76-bc05-eba2bf5be58c",
   "metadata": {
    "tags": []
   },
   "outputs": [],
   "source": [
    "from papergrind import runner\n",
    "\n",
    "template1 = runner.NotebookRunner(\n",
    "    combo,\n",
    "    \"template.ipynb\",\n",
    "    \"r1-{start_date_str}-{time_period}.ipynb\",\n",
    ")"
   ]
  },
  {
   "cell_type": "code",
   "execution_count": null,
   "id": "0b7b7989-c52d-4c2f-a1e8-b573a375435f",
   "metadata": {
    "tags": []
   },
   "outputs": [],
   "source": [
    "outputs = template1.run()"
   ]
  },
  {
   "cell_type": "markdown",
   "id": "22c7d89e-d609-4643-b513-08c00e60a1bb",
   "metadata": {
    "tags": []
   },
   "source": [
    "# The Report Generator\n",
    "\n",
    "The report generator collects the output plots/text from result notebooks, and compile a report notebook."
   ]
  },
  {
   "cell_type": "code",
   "execution_count": null,
   "id": "f9a46347-932b-47d3-9484-4e70cfe2eb89",
   "metadata": {
    "tags": []
   },
   "outputs": [],
   "source": [
    "from papergrind import output_parser as parser, notebook_presenter as pr, report_generator as gen\n",
    "\n",
    "report1 = gen.ReportNotebookGenerator(\n",
    "    pr.ParameterPresenter(),\n",
    "    {\n",
    "        \"part1\": parser.ResultLocator(\n",
    "            parser.AllCellTagLocator(\"output1\"),\n",
    "            parser.TypedOutputLocator(\"display_data\"),\n",
    "        ),\n",
    "    },\n",
    "    report_path=\"example_report.ipynb\",\n",
    ")"
   ]
  },
  {
   "cell_type": "code",
   "execution_count": null,
   "id": "a31184ee-c894-436f-b71f-a242e9722263",
   "metadata": {
    "tags": []
   },
   "outputs": [],
   "source": [
    "output_report = report1.generate_report(outputs)"
   ]
  }
 ],
 "metadata": {
  "kernelspec": {
   "display_name": "Python 3 (ipykernel)",
   "language": "python",
   "name": "python3"
  },
  "language_info": {
   "codemirror_mode": {
    "name": "ipython",
    "version": 3
   },
   "file_extension": ".py",
   "mimetype": "text/x-python",
   "name": "python",
   "nbconvert_exporter": "python",
   "pygments_lexer": "ipython3",
   "version": "3.8.10"
  }
 },
 "nbformat": 4,
 "nbformat_minor": 5
}
