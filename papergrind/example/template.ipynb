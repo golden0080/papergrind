{
 "cells": [
  {
   "cell_type": "markdown",
   "id": "9d1090b0-b1d5-44a1-bbaf-5584027ccadb",
   "metadata": {},
   "source": [
    "# Parameter Cell\n",
    "\n",
    "Use `Cell Tags` to mark the parameter input cell, this cell would provide default values on input parameters to the notebook templates."
   ]
  },
  {
   "cell_type": "code",
   "execution_count": null,
   "id": "7f20e693-2395-4ca1-a9af-bb322d2ebd02",
   "metadata": {
    "tags": [
     "parameters"
    ]
   },
   "outputs": [],
   "source": [
    "# Parameter Cell\n",
    "start_date_str = \"2023-02-10\"\n",
    "end_date_str = \"2023-02-11\"\n",
    "time_period = \"morning\""
   ]
  },
  {
   "cell_type": "code",
   "execution_count": null,
   "id": "5ce502f7-5805-43bc-85d6-82120f64a39d",
   "metadata": {
    "tags": []
   },
   "outputs": [],
   "source": [
    "def test_fn(start_date, end_date, time_period):\n",
    "    print(start_date, end_date, time_period)"
   ]
  },
  {
   "cell_type": "code",
   "execution_count": null,
   "id": "addd7919-5c3b-4d62-a22f-3ea13a5d0126",
   "metadata": {
    "tags": [
     "output1"
    ]
   },
   "outputs": [],
   "source": [
    "test_fn(start_date_str, end_date_str, time_period)"
   ]
  }
 ],
 "metadata": {
  "kernelspec": {
   "display_name": "Python 3 (ipykernel)",
   "language": "python",
   "name": "python3"
  },
  "language_info": {
   "codemirror_mode": {
    "name": "ipython",
    "version": 3
   },
   "file_extension": ".py",
   "mimetype": "text/x-python",
   "name": "python",
   "nbconvert_exporter": "python",
   "pygments_lexer": "ipython3",
   "version": "3.8.10"
  },
  "toc-showmarkdowntxt": false
 },
 "nbformat": 4,
 "nbformat_minor": 5
}
